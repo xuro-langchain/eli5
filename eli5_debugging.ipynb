{
 "cells": [
  {
   "cell_type": "markdown",
   "id": "ff92861b",
   "metadata": {},
   "source": [
    "Let's start by loading our environment variables from our .env file. "
   ]
  },
  {
   "cell_type": "code",
   "execution_count": 1,
   "id": "6cb2a692",
   "metadata": {},
   "outputs": [
    {
     "data": {
      "text/plain": [
       "True"
      ]
     },
     "execution_count": 1,
     "metadata": {},
     "output_type": "execute_result"
    }
   ],
   "source": [
    "from dotenv import load_dotenv\n",
    "\n",
    "load_dotenv(dotenv_path=\".env\", override=True)"
   ]
  },
  {
   "cell_type": "markdown",
   "id": "ad45bc0f",
   "metadata": {},
   "source": [
    "We've implemented 3 versions of our ELI5 Application using LangGraph. These are available in the graphs.py file\n",
    "\n",
    "1. The first version of our ELI5 Application is functional, and the same implementation as in the tracing module.\n",
    "\n",
    "2. The second version of our ELI5 Application is buggy, and does not explain concepts simply.\n",
    "\n",
    "3. The third version of our ELI5 Application has flaky search, which does not always return search results.\n",
    "\n"
   ]
  },
  {
   "cell_type": "markdown",
   "id": "eae9b610",
   "metadata": {},
   "source": [
    "We'll use LangGraph Studio to run our applications and interact with them. Use the command below to do so."
   ]
  },
  {
   "cell_type": "code",
   "execution_count": 1,
   "id": "556ddcf7",
   "metadata": {
    "vscode": {
     "languageId": "shellscript"
    }
   },
   "outputs": [
    {
     "name": "stdout",
     "output_type": "stream",
     "text": [
      "INFO:langgraph_api.cli:\n",
      "\n",
      "        Welcome to\n",
      "\n",
      "╦  ┌─┐┌┐┌┌─┐╔═╗┬─┐┌─┐┌─┐┬ ┬\n",
      "║  ├─┤││││ ┬║ ╦├┬┘├─┤├─┘├─┤\n",
      "╩═╝┴ ┴┘└┘└─┘╚═╝┴└─┴ ┴┴  ┴ ┴\n",
      "\n",
      "- 🚀 API: \u001b[36mhttp://127.0.0.1:2024\u001b[0m\n",
      "- 🎨 Studio UI: \u001b[36mhttps://smith.langchain.com/studio/?baseUrl=http://127.0.0.1:2024\u001b[0m\n",
      "- 📚 API Docs: \u001b[36mhttp://127.0.0.1:2024/docs\u001b[0m\n",
      "\n",
      "This in-memory server is designed for development and testing.\n",
      "For production use, please use LangGraph Platform.\n",
      "\n",
      "\n",
      "\u001b[2m2025-09-19T04:39:12.315705Z\u001b[0m [\u001b[31m\u001b[1merror    \u001b[0m] \u001b[1m[Errno 48] Address already in use\u001b[0m [\u001b[0m\u001b[1m\u001b[34muvicorn.error\u001b[0m]\u001b[0m \u001b[36mapi_variant\u001b[0m=\u001b[35mlocal_dev\u001b[0m \u001b[36mlanggraph_api_version\u001b[0m=\u001b[35m0.4.21\u001b[0m \u001b[36mthread_name\u001b[0m=\u001b[35mMainThread\u001b[0m\n",
      "Server started in 0.71s\n",
      "\u001b[2m2025-09-19T04:39:12.743627Z\u001b[0m [\u001b[32m\u001b[1minfo     \u001b[0m] \u001b[1mServer started in 0.71s       \u001b[0m [\u001b[0m\u001b[1m\u001b[34mbrowser_opener\u001b[0m]\u001b[0m \u001b[36mapi_variant\u001b[0m=\u001b[35mlocal_dev\u001b[0m \u001b[36mlanggraph_api_version\u001b[0m=\u001b[35m0.4.21\u001b[0m \u001b[36mmessage\u001b[0m=\u001b[35m'Server started in 0.71s'\u001b[0m \u001b[36mthread_name\u001b[0m=\u001b[35m'Thread-3 (_open_browser)'\u001b[0m\n",
      "🎨 Opening Studio in your browser...\n",
      "\u001b[2m2025-09-19T04:39:12.743809Z\u001b[0m [\u001b[32m\u001b[1minfo     \u001b[0m] \u001b[1m🎨 Opening Studio in your browser...\u001b[0m [\u001b[0m\u001b[1m\u001b[34mbrowser_opener\u001b[0m]\u001b[0m \u001b[36mapi_variant\u001b[0m=\u001b[35mlocal_dev\u001b[0m \u001b[36mlanggraph_api_version\u001b[0m=\u001b[35m0.4.21\u001b[0m \u001b[36mmessage\u001b[0m=\u001b[35m'🎨 Opening Studio in your browser...'\u001b[0m \u001b[36mthread_name\u001b[0m=\u001b[35m'Thread-3 (_open_browser)'\u001b[0m\n",
      "URL: https://smith.langchain.com/studio/?baseUrl=http://127.0.0.1:2024&organizationId=bcad64b4-50f8-4e66-a0be-8dbaf6f6619c\n",
      "\u001b[2m2025-09-19T04:39:12.743930Z\u001b[0m [\u001b[32m\u001b[1minfo     \u001b[0m] \u001b[1mURL: https://smith.langchain.com/studio/?baseUrl=http://127.0.0.1:2024&organizationId=bcad64b4-50f8-4e66-a0be-8dbaf6f6619c\u001b[0m [\u001b[0m\u001b[1m\u001b[34mbrowser_opener\u001b[0m]\u001b[0m \u001b[36mapi_variant\u001b[0m=\u001b[35mlocal_dev\u001b[0m \u001b[36mlanggraph_api_version\u001b[0m=\u001b[35m0.4.21\u001b[0m \u001b[36mmessage\u001b[0m=\u001b[35m'URL: https://smith.langchain.com/studio/?baseUrl=http://127.0.0.1:2024&organizationId=bcad64b4-50f8-4e66-a0be-8dbaf6f6619c'\u001b[0m \u001b[36mthread_name\u001b[0m=\u001b[35m'Thread-3 (_open_browser)'\u001b[0m\n"
     ]
    }
   ],
   "source": [
    "! langgraph dev "
   ]
  },
  {
   "cell_type": "markdown",
   "id": "921013ce",
   "metadata": {},
   "source": [
    "Now try asking some questions to the graphs, and use Studio to inspect the execution flow!"
   ]
  }
 ],
 "metadata": {
  "kernelspec": {
   "display_name": ".venv",
   "language": "python",
   "name": "python3"
  },
  "language_info": {
   "codemirror_mode": {
    "name": "ipython",
    "version": 3
   },
   "file_extension": ".py",
   "mimetype": "text/x-python",
   "name": "python",
   "nbconvert_exporter": "python",
   "pygments_lexer": "ipython3",
   "version": "3.13.4"
  }
 },
 "nbformat": 4,
 "nbformat_minor": 5
}
