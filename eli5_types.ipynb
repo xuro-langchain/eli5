{
 "cells": [
  {
   "cell_type": "markdown",
   "metadata": {},
   "source": [
    "# Tracing for Different Types of Runs"
   ]
  },
  {
   "cell_type": "markdown",
   "metadata": {},
   "source": [
    "### Types of Runs"
   ]
  },
  {
   "cell_type": "markdown",
   "metadata": {},
   "source": [
    "LangSmith supports many different types of Runs - you can specify what type your Run is in the @traceable decorator. The types of runs are:\n",
    "\n",
    "- LLM: Invokes an LLM\n",
    "- Retriever: Retrieves documents from databases or other sources\n",
    "- Tool: Executes actions with function calls\n",
    "- Chain: Default type; combines multiple Runs into a larger process\n",
    "- Prompt: Hydrates a prompt to be used with an LLM\n",
    "- Parser: Extracts structured data"
   ]
  },
  {
   "cell_type": "markdown",
   "metadata": {},
   "source": [
    "### Setup"
   ]
  },
  {
   "cell_type": "code",
   "execution_count": null,
   "metadata": {},
   "outputs": [],
   "source": [
    "# You can set them inline!\n",
    "import os\n",
    "os.environ[\"OPENAI_API_KEY\"] = \"\"\n",
    "os.environ[\"LANGSMITH_API_KEY\"] = \"\"\n",
    "os.environ[\"LANGSMITH_TRACING\"] = \"true\""
   ]
  },
  {
   "cell_type": "code",
   "execution_count": 6,
   "metadata": {},
   "outputs": [
    {
     "data": {
      "text/plain": [
       "True"
      ]
     },
     "execution_count": 6,
     "metadata": {},
     "output_type": "execute_result"
    }
   ],
   "source": [
    "# Or you can use a .env file\n",
    "from dotenv import load_dotenv\n",
    "load_dotenv(dotenv_path=\".env\", override=True)"
   ]
  },
  {
   "cell_type": "markdown",
   "metadata": {},
   "source": [
    "### LLM Runs for Chat Models"
   ]
  },
  {
   "cell_type": "markdown",
   "metadata": {},
   "source": [
    "LangSmith provides special rendering and processing for LLM traces. In order to make the most of this feature, you must log your LLM traces in a specific format."
   ]
  },
  {
   "cell_type": "markdown",
   "metadata": {},
   "source": [
    "For chat-style models, inputs must be a list of messages in OpenAI-compatible format, represented as Python dictionaries or TypeScript object. Each message must contain the key role and content.\n",
    "\n",
    "The output is accepted in any of the following formats:\n",
    "\n",
    "- A dictionary/object that contains the key choices with a value that is a list of dictionaries/objects. Each dictionary/object must contain the key message, which maps to a message object with the keys role and content.\n",
    "- A dictionary/object that contains the key message with a value that is a message object with the keys role and content.\n",
    "- A tuple/array of two elements, where the first element is the role and the second element is the content.\n",
    "- A dictionary/object that contains the key role and content.\n",
    "The input to your function should be named messages.\n",
    "\n",
    "You can also provide the following metadata fields to help LangSmith identify the model and calculate costs. If using LangChain or OpenAI wrapper, these fields will be automatically populated correctly.\n",
    "- ls_provider: The provider of the model, eg \"openai\", \"anthropic\", etc.\n",
    "- ls_model_name: The name of the model, eg \"gpt-4o-mini\", \"claude-3-opus-20240307\", etc."
   ]
  },
  {
   "cell_type": "code",
   "execution_count": 8,
   "metadata": {},
   "outputs": [
    {
     "data": {
      "text/plain": [
       "{'choices': [{'message': {'role': 'assistant',\n",
       "    'content': 'Sure, what time would you like to book the table for?'}}]}"
      ]
     },
     "execution_count": 8,
     "metadata": {},
     "output_type": "execute_result"
    }
   ],
   "source": [
    "from langsmith import traceable\n",
    "\n",
    "inputs = [\n",
    "  {\"role\": \"system\", \"content\": \"You are a helpful assistant.\"},\n",
    "  {\"role\": \"user\", \"content\": \"I'd like to book a table for two.\"},\n",
    "]\n",
    "\n",
    "output = {\n",
    "  \"choices\": [\n",
    "      {\n",
    "          \"message\": {\n",
    "              \"role\": \"assistant\",\n",
    "              \"content\": \"Sure, what time would you like to book the table for?\"\n",
    "          }\n",
    "      }\n",
    "  ]\n",
    "}\n",
    "\n",
    "\n",
    "# Can also use one of:\n",
    "# output = {\n",
    "#     \"message\": {\n",
    "#         \"role\": \"assistant\",\n",
    "#         \"content\": \"Sure, what time would you like to book the table for?\"\n",
    "#     }\n",
    "# }\n",
    "#\n",
    "# output = {\n",
    "#     \"role\": \"assistant\",\n",
    "#     \"content\": \"Sure, what time would you like to book the table for?\"\n",
    "# }\n",
    "#\n",
    "# output = [\"assistant\", \"Sure, what time would you like to book the table for?\"]\n",
    "\n",
    "@traceable(\n",
    "  # TODO: Add an run_type=\"llm\"\n",
    "    run_type=\"llm\"\n",
    ")\n",
    "def chat_model(messages: list):\n",
    "  return output\n",
    "\n",
    "chat_model(inputs)"
   ]
  },
  {
   "cell_type": "markdown",
   "metadata": {},
   "source": [
    "### Retriever Runs + Documents"
   ]
  },
  {
   "cell_type": "markdown",
   "metadata": {},
   "source": [
    "Many LLM applications require looking up documents from vector databases, knowledge graphs, or other types of indexes. Retriever traces are a way to log the documents that are retrieved by the retriever. LangSmith provides special rendering for retrieval steps in traces to make it easier to understand and diagnose retrieval issues. In order for retrieval steps to be rendered correctly, a few small steps need to be taken.\n",
    "\n",
    "1. Annotate the retriever step with run_type=\"retriever\".\n",
    "2. Return a list of Python dictionaries or TypeScript objects from the retriever step. Each dictionary should contain the following keys:\n",
    "    - page_content: The text of the document.\n",
    "    - type: This should always be \"Document\".\n",
    "    - metadata: A python dictionary or TypeScript object containing metadata about the document. This metadata will be displayed in the trace."
   ]
  },
  {
   "cell_type": "code",
   "execution_count": 10,
   "metadata": {},
   "outputs": [
    {
     "data": {
      "text/plain": [
       "[{'page_content': 'LangSmith Document contents 1',\n",
       "  'type': 'Document',\n",
       "  'metadata': {'foo': 'bar'}},\n",
       " {'page_content': 'LangSmith Document contents 2',\n",
       "  'type': 'Document',\n",
       "  'metadata': {'foo': 'bar'}},\n",
       " {'page_content': 'LangSmith Document contents 3',\n",
       "  'type': 'Document',\n",
       "  'metadata': {'foo': 'bar'}}]"
      ]
     },
     "execution_count": 10,
     "metadata": {},
     "output_type": "execute_result"
    }
   ],
   "source": [
    "from langsmith import traceable\n",
    "\n",
    "def _convert_docs(results):\n",
    "  return [\n",
    "      {\n",
    "          \"page_content\": r,\n",
    "          \"type\": \"Document\",\n",
    "          \"metadata\": {\"foo\": \"bar\"}\n",
    "      }\n",
    "      for r in results\n",
    "  ]\n",
    "\n",
    "@traceable(\n",
    "    # TODO: Add an run_type=\"retriever\"\n",
    "    run_type=\"retriever\"\n",
    ")\n",
    "def retrieve_langsmith_docs(query):\n",
    "  # Retriever returning hardcoded dummy documents.\n",
    "  # In production, this could be a real vector datatabase or other document index.\n",
    "  contents = [\"LangSmith Document contents 1\", \"LangSmith Document contents 2\", \"LangSmith Document contents 3\"]\n",
    "  return _convert_docs(contents)\n",
    "\n",
    "retrieve_langsmith_docs(\"User query\")"
   ]
  },
  {
   "cell_type": "markdown",
   "metadata": {},
   "source": [
    "### Tool Calling"
   ]
  },
  {
   "cell_type": "markdown",
   "metadata": {},
   "source": [
    "LangSmith has custom rendering for Tool Calls made by the model to make it clear when provided tools are being used."
   ]
  },
  {
   "cell_type": "code",
   "execution_count": 13,
   "metadata": {},
   "outputs": [
    {
     "data": {
      "text/plain": [
       "ChatCompletion(id='chatcmpl-CHaw5DGAczDPRnmdL5SXaL7QmJ7gH', choices=[Choice(finish_reason='stop', index=0, logprobs=None, message=ChatCompletionMessage(content=\"I'm unable to provide real-time weather updates. However, you can easily check the current weather in New York City by using a weather website or app, such as the Weather Channel, AccuWeather, or a search engine.\", refusal=None, role='assistant', annotations=[], audio=None, function_call=None, tool_calls=None))], created=1758309593, model='gpt-4o-mini-2024-07-18', object='chat.completion', service_tier='default', system_fingerprint='fp_560af6e559', usage=CompletionUsage(completion_tokens=45, prompt_tokens=79, total_tokens=124, completion_tokens_details=CompletionTokensDetails(accepted_prediction_tokens=0, audio_tokens=0, reasoning_tokens=0, rejected_prediction_tokens=0), prompt_tokens_details=PromptTokensDetails(audio_tokens=0, cached_tokens=0)))"
      ]
     },
     "execution_count": 13,
     "metadata": {},
     "output_type": "execute_result"
    }
   ],
   "source": [
    "from langsmith import traceable\n",
    "from openai import OpenAI\n",
    "from typing import List, Optional\n",
    "import json\n",
    "\n",
    "openai_client = OpenAI()\n",
    "\n",
    "@traceable(\n",
    "  # TODO: Add an run_type=\"tool\"\n",
    "    run_type=\"tool\"\n",
    ")\n",
    "def search_web(query: str):\n",
    "    return f\"No result found for query: {query}\"\n",
    "\n",
    "@traceable(run_type=\"llm\")\n",
    "def call_openai(\n",
    "    messages: List[dict], tools: Optional[List[dict]]\n",
    ") -> str:\n",
    "  return openai_client.chat.completions.create(\n",
    "    model=\"gpt-4o-mini\",\n",
    "    messages=messages,\n",
    "    temperature=0,\n",
    "    tools=tools\n",
    "  )\n",
    "\n",
    "@traceable(run_type=\"chain\")\n",
    "def respond(inputs, tools):\n",
    "  response = call_openai(inputs, tools)\n",
    "  tool_call_args = json.loads(response.choices[0].message.tool_calls[0].function.arguments)\n",
    "  query = tool_call_args[\"query\"]\n",
    "  tool_response_message = {\n",
    "    \"role\": \"tool\",\n",
    "    \"content\": json.dumps({\n",
    "        \"query\": query,\n",
    "        \"results\": search_web(query),\n",
    "    }),\n",
    "    \"tool_call_id\": response.choices[0].message.tool_calls[0].id\n",
    "  }\n",
    "  inputs.append(response.choices[0].message)\n",
    "  inputs.append(tool_response_message)\n",
    "  output = call_openai(inputs, None)\n",
    "  return output\n",
    "\n",
    "tools = [\n",
    "    {\n",
    "      \"type\": \"function\",\n",
    "      \"function\": {\n",
    "        \"name\": \"search_web\",\n",
    "        \"description\": \"Search the web for a specific query\",\n",
    "        \"parameters\": {\n",
    "          \"type\": \"object\",\n",
    "          \"properties\": {\n",
    "            \"query\": {\n",
    "              \"type\": \"string\",\n",
    "              \"description\": \"The query to search the web for\"\n",
    "            }\n",
    "          },\n",
    "          \"required\": [\"query\"]\n",
    "        }\n",
    "      }\n",
    "    }\n",
    "]\n",
    "inputs = [\n",
    "  {\"role\": \"system\", \"content\": \"You are a helpful assistant.\"},\n",
    "  {\"role\": \"user\", \"content\": \"What is the weather today in New York City?\"},\n",
    "]\n",
    "\n",
    "respond(inputs, tools)"
   ]
  },
  {
   "cell_type": "code",
   "execution_count": null,
   "metadata": {},
   "outputs": [],
   "source": []
  }
 ],
 "metadata": {
  "kernelspec": {
   "display_name": "Python 3 (ipykernel)",
   "language": "python",
   "name": "python3"
  },
  "language_info": {
   "codemirror_mode": {
    "name": "ipython",
    "version": 3
   },
   "file_extension": ".py",
   "mimetype": "text/x-python",
   "name": "python",
   "nbconvert_exporter": "python",
   "pygments_lexer": "ipython3",
   "version": "3.13.4"
  }
 },
 "nbformat": 4,
 "nbformat_minor": 4
}
