{
 "cells": [
  {
   "cell_type": "markdown",
   "metadata": {},
   "source": [
    "## Prompt Engineering in LangSmith"
   ]
  },
  {
   "cell_type": "markdown",
   "metadata": {},
   "source": [
    "### Import environment variables"
   ]
  },
  {
   "cell_type": "code",
   "execution_count": 1,
   "metadata": {},
   "outputs": [],
   "source": [
    "import os\n",
    "from dotenv import load_dotenv\n",
    "\n",
    "load_dotenv(dotenv_path=\".env\", override=True)\n",
    "LANGSMITH_API_KEY = os.getenv(\"LANGSMITH_API_KEY\")"
   ]
  },
  {
   "cell_type": "markdown",
   "metadata": {},
   "source": [
    "### Pull in Prompt from Prompthub"
   ]
  },
  {
   "cell_type": "code",
   "execution_count": null,
   "metadata": {},
   "outputs": [],
   "source": [
    "from langsmith import Client\n",
    "from langchain_core.prompts import ChatPromptTemplate\n",
    "from langsmith.utils import LangSmithNotFoundError\n",
    "\n",
    "client = Client(api_key=LANGSMITH_API_KEY)\n",
    "\n",
    "# Define the prompt template\n",
    "eli5_prompt_template = ChatPromptTemplate.from_messages([\n",
    "    (\"system\", \"\"\"You are an expert at explaining complex topics in simple terms that a 5-year-old could understand. \n",
    "\n",
    "Your task is to take a complex question and context information, then provide a clear, simple explanation using:\n",
    "- Simple words and concepts\n",
    "- Analogies and examples from everyday life\n",
    "- Short sentences\n",
    "- Engaging and friendly tone\n",
    "\n",
    "Keep your explanation concise but complete.\n",
    "\n",
    "Question: {question}\n",
    "\n",
    "Context: {context}\n",
    "\n",
    "Please explain this in simple terms that a 5-year-old would understand:\n",
    "\"\"\")])\n",
    "\n",
    "# Try to pull the prompt, if it doesn't exist, push it first\n",
    "try:\n",
    "    print(\"Trying to pull existing prompt...\")\n",
    "    prompt = client.pull_prompt(\"eli5-concise\", include_model=True)\n",
    "    print(\"✅ Successfully pulled existing prompt from LangSmith\")\n",
    "except LangSmithNotFoundError:\n",
    "    print(\"❌ Prompt not found. Creating and pushing new prompt...\")\n",
    "    \n",
    "    # Push the prompt to LangSmith\n",
    "    client.push_prompt(\n",
    "        \"eli5-concise\",\n",
    "        object=eli5_prompt_template,\n",
    "        description=\"A prompt for explaining complex topics in simple terms that a 5-year-old could understand\"\n",
    "    )\n",
    "    print(\"✅ Successfully pushed prompt to LangSmith\")\n",
    "    \n",
    "    # Now pull the prompt back\n",
    "    prompt = client.pull_prompt(\"eli5-concise\", include_model=True)\n",
    "    print(\"✅ Successfully pulled the newly created prompt\")"
   ]
  },
  {
   "cell_type": "markdown",
   "metadata": {},
   "source": [
    "### Setup AI Application"
   ]
  },
  {
   "cell_type": "markdown",
   "metadata": {},
   "source": [
    "Let's first setup our web search tool, as usual"
   ]
  },
  {
   "cell_type": "code",
   "execution_count": null,
   "metadata": {},
   "outputs": [],
   "source": [
    "# Initialize web search tool\n",
    "\n",
    "from langchain_community.tools.tavily_search import TavilySearchResults\n",
    "\n",
    "web_search_tool = TavilySearchResults(max_results=1)"
   ]
  },
  {
   "cell_type": "markdown",
   "metadata": {},
   "source": [
    "Let's now create our application, same as in the tracing module. This time, our prompt is the one pulled from PromptHub"
   ]
  },
  {
   "cell_type": "code",
   "execution_count": 11,
   "metadata": {},
   "outputs": [],
   "source": [
    "from openai import OpenAI\n",
    "from langsmith import traceable\n",
    "from langsmith.wrappers import wrap_openai\n",
    "\n",
    "# Create Application\n",
    "openai_client = wrap_openai(OpenAI())\n",
    "\n",
    "@traceable\n",
    "def search(question):\n",
    "    web_docs = web_search_tool.invoke({\"query\": question})\n",
    "    web_results = \"\\n\".join([d[\"content\"] for d in web_docs])\n",
    "    return web_results\n",
    "    \n",
    "@traceable\n",
    "def explain(question, context):\n",
    "    # Format the prompt with the question and context\n",
    "    messages = prompt.format_messages(question=question, context=context)\n",
    "    \n",
    "    # Call the OpenAI API with the formatted messages\n",
    "    response = openai_client.chat.completions.create(\n",
    "        model=\"gpt-4o-mini\",\n",
    "        messages=[{\"role\": msg.type, \"content\": msg.content} for msg in messages],\n",
    "        temperature=0.7\n",
    "    )\n",
    "    \n",
    "    return response.choices[0].message.content\n",
    "\n",
    "@traceable\n",
    "def eli5(question):\n",
    "    context = search(question)\n",
    "    answer = explain(question, context)\n",
    "    return answer"
   ]
  },
  {
   "cell_type": "markdown",
   "metadata": {},
   "source": [
    "### Test Application"
   ]
  },
  {
   "cell_type": "code",
   "execution_count": null,
   "metadata": {},
   "outputs": [],
   "source": [
    "question = \"what is complexity economics?\"\n",
    "print(eli5(question))"
   ]
  }
 ],
 "metadata": {
  "kernelspec": {
   "display_name": ".venv",
   "language": "python",
   "name": "python3"
  },
  "language_info": {
   "codemirror_mode": {
    "name": "ipython",
    "version": 3
   },
   "file_extension": ".py",
   "mimetype": "text/x-python",
   "name": "python",
   "nbconvert_exporter": "python",
   "pygments_lexer": "ipython3",
   "version": "3.13.4"
  }
 },
 "nbformat": 4,
 "nbformat_minor": 4
}
